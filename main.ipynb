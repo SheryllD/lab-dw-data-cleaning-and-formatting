{
 "cells": [
  {
   "cell_type": "code",
   "execution_count": null,
   "metadata": {},
   "outputs": [],
   "source": [
    "!pip install nbimporter\n",
    "!pip install import-ipynb"
   ]
  },
  {
   "cell_type": "code",
   "execution_count": null,
   "metadata": {},
   "outputs": [],
   "source": [
    "import nbimporter\n",
    "import pandas as pd\n",
    "import numpy as np\n",
    "import import_ipynb\n",
    "from data_cleaning import *"
   ]
  },
  {
   "cell_type": "code",
   "execution_count": null,
   "metadata": {},
   "outputs": [],
   "source": [
    "%run data_cleaning.ipynb"
   ]
  },
  {
   "cell_type": "code",
   "execution_count": null,
   "metadata": {},
   "outputs": [],
   "source": [
    "def main():\n",
    "# Step 1: Load the data\n",
    "    df = load_data(\"cleaned_data.csv\")\n",
    "\n",
    "# Step 2: Clean and format\n",
    "    df = convert_nonstandard_nulls(df)\n",
    "    df = clean_customer_lifetime_value(df)\n",
    "    df = clean_number_of_open_complaints(df)\n",
    "    df = convert_data_types(df)\n",
    "    df = drop_and_fill_nulls(df, strategy='mean')\n",
    "    df = remove_duplicates(df)\n",
    "\n",
    "# Step 3: Save cleaned data\n",
    "save_clean_data(df, \"cleaned_data.csv\")\n",
    "print(\"Data cleaned and saved successfully!\")\n",
    "\n",
    "if __name__ == \"__main__\":\n",
    "    main()\n"
   ]
  }
 ],
 "metadata": {
  "kernelspec": {
   "display_name": "base",
   "language": "python",
   "name": "python3"
  },
  "language_info": {
   "codemirror_mode": {
    "name": "ipython",
    "version": 3
   },
   "file_extension": ".py",
   "mimetype": "text/x-python",
   "name": "python",
   "nbconvert_exporter": "python",
   "pygments_lexer": "ipython3",
   "version": "3.12.2"
  }
 },
 "nbformat": 4,
 "nbformat_minor": 2
}
